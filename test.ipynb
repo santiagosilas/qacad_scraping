{
 "cells": [
  {
   "cell_type": "code",
   "execution_count": 8,
   "metadata": {},
   "outputs": [
    {
     "name": "stdout",
     "output_type": "stream",
     "text": [
      "Requirement already satisfied: webdriver_manager in e:\\gdrive\\h-references\\h-repositories\\qacad_scraping\\env\\lib\\site-packages (1.7)\n",
      "Requirement already satisfied: requests in e:\\gdrive\\h-references\\h-repositories\\qacad_scraping\\env\\lib\\site-packages (from webdriver_manager) (2.21.0)\n",
      "Requirement already satisfied: configparser in e:\\gdrive\\h-references\\h-repositories\\qacad_scraping\\env\\lib\\site-packages (from webdriver_manager) (3.7.3)\n",
      "Requirement already satisfied: crayons in e:\\gdrive\\h-references\\h-repositories\\qacad_scraping\\env\\lib\\site-packages (from webdriver_manager) (0.2.0)\n",
      "Requirement already satisfied: urllib3<1.25,>=1.21.1 in e:\\gdrive\\h-references\\h-repositories\\qacad_scraping\\env\\lib\\site-packages (from requests->webdriver_manager) (1.24.1)\n",
      "Requirement already satisfied: chardet<3.1.0,>=3.0.2 in e:\\gdrive\\h-references\\h-repositories\\qacad_scraping\\env\\lib\\site-packages (from requests->webdriver_manager) (3.0.4)\n",
      "Requirement already satisfied: certifi>=2017.4.17 in e:\\gdrive\\h-references\\h-repositories\\qacad_scraping\\env\\lib\\site-packages (from requests->webdriver_manager) (2018.11.29)\n",
      "Requirement already satisfied: idna<2.9,>=2.5 in e:\\gdrive\\h-references\\h-repositories\\qacad_scraping\\env\\lib\\site-packages (from requests->webdriver_manager) (2.8)\n",
      "Requirement already satisfied: colorama in e:\\gdrive\\h-references\\h-repositories\\qacad_scraping\\env\\lib\\site-packages (from crayons->webdriver_manager) (0.4.1)\n"
     ]
    }
   ],
   "source": [
    "!pip install webdriver_manager"
   ]
  },
  {
   "cell_type": "code",
   "execution_count": 9,
   "metadata": {},
   "outputs": [
    {
     "ename": "ModuleNotFoundError",
     "evalue": "No module named 'webdriver_manager'",
     "output_type": "error",
     "traceback": [
      "\u001b[1;31m---------------------------------------------------------------------------\u001b[0m",
      "\u001b[1;31mModuleNotFoundError\u001b[0m                       Traceback (most recent call last)",
      "\u001b[1;32m<ipython-input-9-fa448a40137f>\u001b[0m in \u001b[0;36m<module>\u001b[1;34m\u001b[0m\n\u001b[0;32m      8\u001b[0m \u001b[1;32mfrom\u001b[0m \u001b[0mselenium\u001b[0m\u001b[1;33m.\u001b[0m\u001b[0mwebdriver\u001b[0m\u001b[1;33m.\u001b[0m\u001b[0mchrome\u001b[0m\u001b[1;33m.\u001b[0m\u001b[0moptions\u001b[0m \u001b[1;32mimport\u001b[0m \u001b[0mOptions\u001b[0m\u001b[1;33m\u001b[0m\u001b[1;33m\u001b[0m\u001b[0m\n\u001b[0;32m      9\u001b[0m \u001b[1;32mfrom\u001b[0m \u001b[0mselenium\u001b[0m\u001b[1;33m.\u001b[0m\u001b[0mwebdriver\u001b[0m\u001b[1;33m.\u001b[0m\u001b[0msupport\u001b[0m\u001b[1;33m.\u001b[0m\u001b[0mui\u001b[0m \u001b[1;32mimport\u001b[0m \u001b[0mWebDriverWait\u001b[0m\u001b[1;33m\u001b[0m\u001b[1;33m\u001b[0m\u001b[0m\n\u001b[1;32m---> 10\u001b[1;33m \u001b[1;32mfrom\u001b[0m \u001b[0mwebdriver_manager\u001b[0m\u001b[1;33m.\u001b[0m\u001b[0mchrome\u001b[0m \u001b[1;32mimport\u001b[0m \u001b[0mChromeDriverManager\u001b[0m\u001b[1;33m\u001b[0m\u001b[1;33m\u001b[0m\u001b[0m\n\u001b[0m\u001b[0;32m     11\u001b[0m \u001b[1;32mfrom\u001b[0m \u001b[0mbs4\u001b[0m \u001b[1;32mimport\u001b[0m \u001b[0mBeautifulSoup\u001b[0m\u001b[1;33m\u001b[0m\u001b[1;33m\u001b[0m\u001b[0m\n",
      "\u001b[1;31mModuleNotFoundError\u001b[0m: No module named 'webdriver_manager'"
     ]
    }
   ],
   "source": [
    "import qsettings\n",
    "import os, sys\n",
    "import json\n",
    "import msvcrt\n",
    "from selenium import webdriver\n",
    "from selenium.webdriver.support import expected_conditions as EC\n",
    "from selenium.webdriver.common.by import By\n",
    "from selenium.webdriver.chrome.options import Options\n",
    "from selenium.webdriver.support.ui import WebDriverWait\n",
    "from webdriver_manager.chrome import ChromeDriverManager\n",
    "from bs4 import BeautifulSoup"
   ]
  },
  {
   "cell_type": "code",
   "execution_count": null,
   "metadata": {},
   "outputs": [],
   "source": []
  }
 ],
 "metadata": {
  "kernelspec": {
   "display_name": "Python 3",
   "language": "python",
   "name": "python3"
  },
  "language_info": {
   "codemirror_mode": {
    "name": "ipython",
    "version": 3
   },
   "file_extension": ".py",
   "mimetype": "text/x-python",
   "name": "python",
   "nbconvert_exporter": "python",
   "pygments_lexer": "ipython3",
   "version": "3.6.7"
  }
 },
 "nbformat": 4,
 "nbformat_minor": 2
}
